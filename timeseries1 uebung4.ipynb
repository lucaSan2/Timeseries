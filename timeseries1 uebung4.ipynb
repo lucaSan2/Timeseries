{
 "cells": [
  {
   "cell_type": "code",
   "execution_count": 1,
   "metadata": {},
   "outputs": [
    {
     "name": "stderr",
     "output_type": "stream",
     "text": [
      "C:\\Users\\l_san\\AppData\\Local\\Continuum\\anaconda3\\lib\\site-packages\\pandas\\compat\\_optional.py:138: UserWarning: Pandas requires version '2.7.0' or newer of 'numexpr' (version '2.6.9' currently installed).\n",
      "  warnings.warn(msg, UserWarning)\n",
      "\n",
      "Bad key text.latex.preview in file C:\\Users\\l_san\\AppData\\Local\\Continuum\\anaconda3\\lib\\site-packages\\matplotlib\\mpl-data\\stylelib\\_classic_test.mplstyle, line 123 ('text.latex.preview : False')\n",
      "You probably need to get an updated matplotlibrc file from\n",
      "https://github.com/matplotlib/matplotlib/blob/v3.5.3/matplotlibrc.template\n",
      "or from the matplotlib source distribution\n",
      "\n",
      "Bad key mathtext.fallback_to_cm in file C:\\Users\\l_san\\AppData\\Local\\Continuum\\anaconda3\\lib\\site-packages\\matplotlib\\mpl-data\\stylelib\\_classic_test.mplstyle, line 155 ('mathtext.fallback_to_cm : True  # When True, use symbols from the Computer Modern')\n",
      "You probably need to get an updated matplotlibrc file from\n",
      "https://github.com/matplotlib/matplotlib/blob/v3.5.3/matplotlibrc.template\n",
      "or from the matplotlib source distribution\n",
      "\n",
      "Bad key savefig.jpeg_quality in file C:\\Users\\l_san\\AppData\\Local\\Continuum\\anaconda3\\lib\\site-packages\\matplotlib\\mpl-data\\stylelib\\_classic_test.mplstyle, line 418 ('savefig.jpeg_quality: 95       # when a jpeg is saved, the default quality parameter.')\n",
      "You probably need to get an updated matplotlibrc file from\n",
      "https://github.com/matplotlib/matplotlib/blob/v3.5.3/matplotlibrc.template\n",
      "or from the matplotlib source distribution\n",
      "\n",
      "Bad key keymap.all_axes in file C:\\Users\\l_san\\AppData\\Local\\Continuum\\anaconda3\\lib\\site-packages\\matplotlib\\mpl-data\\stylelib\\_classic_test.mplstyle, line 466 ('keymap.all_axes : a                 # enable all axes')\n",
      "You probably need to get an updated matplotlibrc file from\n",
      "https://github.com/matplotlib/matplotlib/blob/v3.5.3/matplotlibrc.template\n",
      "or from the matplotlib source distribution\n",
      "\n",
      "Bad key animation.avconv_path in file C:\\Users\\l_san\\AppData\\Local\\Continuum\\anaconda3\\lib\\site-packages\\matplotlib\\mpl-data\\stylelib\\_classic_test.mplstyle, line 477 ('animation.avconv_path: avconv     # Path to avconv binary. Without full path')\n",
      "You probably need to get an updated matplotlibrc file from\n",
      "https://github.com/matplotlib/matplotlib/blob/v3.5.3/matplotlibrc.template\n",
      "or from the matplotlib source distribution\n",
      "\n",
      "Bad key animation.avconv_args in file C:\\Users\\l_san\\AppData\\Local\\Continuum\\anaconda3\\lib\\site-packages\\matplotlib\\mpl-data\\stylelib\\_classic_test.mplstyle, line 479 ('animation.avconv_args:            # Additional arguments to pass to avconv')\n",
      "You probably need to get an updated matplotlibrc file from\n",
      "https://github.com/matplotlib/matplotlib/blob/v3.5.3/matplotlibrc.template\n",
      "or from the matplotlib source distribution\n"
     ]
    }
   ],
   "source": [
    "import numpy as np\n",
    "import pandas as pd\n",
    "import matplotlib.pyplot as plt"
   ]
  },
  {
   "cell_type": "code",
   "execution_count": 3,
   "metadata": {},
   "outputs": [],
   "source": [
    "from sklearn.model_selection import TimeSeriesSplit"
   ]
  },
  {
   "cell_type": "code",
   "execution_count": 7,
   "metadata": {},
   "outputs": [],
   "source": [
    "prices = pd.read_csv('../Datasets/prices_ts.csv', index_col=0, parse_dates=True)"
   ]
  },
  {
   "cell_type": "code",
   "execution_count": 8,
   "metadata": {},
   "outputs": [
    {
     "data": {
      "text/html": [
       "<div>\n",
       "<style scoped>\n",
       "    .dataframe tbody tr th:only-of-type {\n",
       "        vertical-align: middle;\n",
       "    }\n",
       "\n",
       "    .dataframe tbody tr th {\n",
       "        vertical-align: top;\n",
       "    }\n",
       "\n",
       "    .dataframe thead th {\n",
       "        text-align: right;\n",
       "    }\n",
       "</style>\n",
       "<table border=\"1\" class=\"dataframe\">\n",
       "  <thead>\n",
       "    <tr style=\"text-align: right;\">\n",
       "      <th></th>\n",
       "      <th>symbol</th>\n",
       "      <th>close</th>\n",
       "      <th>volume</th>\n",
       "    </tr>\n",
       "    <tr>\n",
       "      <th>date</th>\n",
       "      <th></th>\n",
       "      <th></th>\n",
       "      <th></th>\n",
       "    </tr>\n",
       "  </thead>\n",
       "  <tbody>\n",
       "    <tr>\n",
       "      <th>2010-01-04</th>\n",
       "      <td>AAPL</td>\n",
       "      <td>214.009998</td>\n",
       "      <td>123432400.0</td>\n",
       "    </tr>\n",
       "    <tr>\n",
       "      <th>2010-01-04</th>\n",
       "      <td>ABT</td>\n",
       "      <td>54.459951</td>\n",
       "      <td>10829000.0</td>\n",
       "    </tr>\n",
       "    <tr>\n",
       "      <th>2010-01-04</th>\n",
       "      <td>AIG</td>\n",
       "      <td>29.889999</td>\n",
       "      <td>7750900.0</td>\n",
       "    </tr>\n",
       "    <tr>\n",
       "      <th>2010-01-04</th>\n",
       "      <td>AMAT</td>\n",
       "      <td>14.300000</td>\n",
       "      <td>18615100.0</td>\n",
       "    </tr>\n",
       "    <tr>\n",
       "      <th>2010-01-04</th>\n",
       "      <td>ARNC</td>\n",
       "      <td>16.650013</td>\n",
       "      <td>11512100.0</td>\n",
       "    </tr>\n",
       "  </tbody>\n",
       "</table>\n",
       "</div>"
      ],
      "text/plain": [
       "           symbol       close       volume\n",
       "date                                      \n",
       "2010-01-04   AAPL  214.009998  123432400.0\n",
       "2010-01-04    ABT   54.459951   10829000.0\n",
       "2010-01-04    AIG   29.889999    7750900.0\n",
       "2010-01-04   AMAT   14.300000   18615100.0\n",
       "2010-01-04   ARNC   16.650013   11512100.0"
      ]
     },
     "execution_count": 8,
     "metadata": {},
     "output_type": "execute_result"
    }
   ],
   "source": [
    "prices.head()"
   ]
  },
  {
   "cell_type": "code",
   "execution_count": 46,
   "metadata": {},
   "outputs": [
    {
     "data": {
      "text/html": [
       "<div>\n",
       "<style scoped>\n",
       "    .dataframe tbody tr th:only-of-type {\n",
       "        vertical-align: middle;\n",
       "    }\n",
       "\n",
       "    .dataframe tbody tr th {\n",
       "        vertical-align: top;\n",
       "    }\n",
       "\n",
       "    .dataframe thead th {\n",
       "        text-align: right;\n",
       "    }\n",
       "</style>\n",
       "<table border=\"1\" class=\"dataframe\">\n",
       "  <thead>\n",
       "    <tr style=\"text-align: right;\">\n",
       "      <th></th>\n",
       "      <th>symbol</th>\n",
       "      <th>close</th>\n",
       "      <th>volume</th>\n",
       "    </tr>\n",
       "    <tr>\n",
       "      <th>date</th>\n",
       "      <th></th>\n",
       "      <th></th>\n",
       "      <th></th>\n",
       "    </tr>\n",
       "  </thead>\n",
       "  <tbody>\n",
       "    <tr>\n",
       "      <th>2010-01-04</th>\n",
       "      <td>AAPL</td>\n",
       "      <td>214.009998</td>\n",
       "      <td>123432400.0</td>\n",
       "    </tr>\n",
       "    <tr>\n",
       "      <th>2010-01-05</th>\n",
       "      <td>AAPL</td>\n",
       "      <td>214.379993</td>\n",
       "      <td>150476200.0</td>\n",
       "    </tr>\n",
       "    <tr>\n",
       "      <th>2010-01-06</th>\n",
       "      <td>AAPL</td>\n",
       "      <td>210.969995</td>\n",
       "      <td>138040000.0</td>\n",
       "    </tr>\n",
       "    <tr>\n",
       "      <th>2010-01-07</th>\n",
       "      <td>AAPL</td>\n",
       "      <td>210.580000</td>\n",
       "      <td>119282800.0</td>\n",
       "    </tr>\n",
       "    <tr>\n",
       "      <th>2010-01-08</th>\n",
       "      <td>AAPL</td>\n",
       "      <td>211.980005</td>\n",
       "      <td>111902700.0</td>\n",
       "    </tr>\n",
       "  </tbody>\n",
       "</table>\n",
       "</div>"
      ],
      "text/plain": [
       "           symbol       close       volume\n",
       "date                                      \n",
       "2010-01-04   AAPL  214.009998  123432400.0\n",
       "2010-01-05   AAPL  214.379993  150476200.0\n",
       "2010-01-06   AAPL  210.969995  138040000.0\n",
       "2010-01-07   AAPL  210.580000  119282800.0\n",
       "2010-01-08   AAPL  211.980005  111902700.0"
      ]
     },
     "execution_count": 46,
     "metadata": {},
     "output_type": "execute_result"
    }
   ],
   "source": [
    "apl1 = prices[prices['symbol']=='AAPL']\n",
    "apl1.head()"
   ]
  },
  {
   "cell_type": "code",
   "execution_count": 62,
   "metadata": {},
   "outputs": [],
   "source": [
    "apl = apl1.drop(['symbol', 'volume'], axis=1)"
   ]
  },
  {
   "cell_type": "code",
   "execution_count": 69,
   "metadata": {},
   "outputs": [
    {
     "data": {
      "text/html": [
       "<div>\n",
       "<style scoped>\n",
       "    .dataframe tbody tr th:only-of-type {\n",
       "        vertical-align: middle;\n",
       "    }\n",
       "\n",
       "    .dataframe tbody tr th {\n",
       "        vertical-align: top;\n",
       "    }\n",
       "\n",
       "    .dataframe thead th {\n",
       "        text-align: right;\n",
       "    }\n",
       "</style>\n",
       "<table border=\"1\" class=\"dataframe\">\n",
       "  <thead>\n",
       "    <tr style=\"text-align: right;\">\n",
       "      <th></th>\n",
       "      <th>close</th>\n",
       "    </tr>\n",
       "    <tr>\n",
       "      <th>date</th>\n",
       "      <th></th>\n",
       "    </tr>\n",
       "  </thead>\n",
       "  <tbody>\n",
       "    <tr>\n",
       "      <th>2010-01-04</th>\n",
       "      <td>214.009998</td>\n",
       "    </tr>\n",
       "    <tr>\n",
       "      <th>2010-01-05</th>\n",
       "      <td>214.379993</td>\n",
       "    </tr>\n",
       "    <tr>\n",
       "      <th>2010-01-06</th>\n",
       "      <td>210.969995</td>\n",
       "    </tr>\n",
       "    <tr>\n",
       "      <th>2010-01-07</th>\n",
       "      <td>210.580000</td>\n",
       "    </tr>\n",
       "    <tr>\n",
       "      <th>2010-01-08</th>\n",
       "      <td>211.980005</td>\n",
       "    </tr>\n",
       "  </tbody>\n",
       "</table>\n",
       "</div>"
      ],
      "text/plain": [
       "                 close\n",
       "date                  \n",
       "2010-01-04  214.009998\n",
       "2010-01-05  214.379993\n",
       "2010-01-06  210.969995\n",
       "2010-01-07  210.580000\n",
       "2010-01-08  211.980005"
      ]
     },
     "execution_count": 69,
     "metadata": {},
     "output_type": "execute_result"
    }
   ],
   "source": [
    "apl = pd.DataFrame(apl)\n",
    "apl.head()"
   ]
  },
  {
   "cell_type": "code",
   "execution_count": 97,
   "metadata": {},
   "outputs": [],
   "source": [
    "apl_ser = pd.Series(apl['close'], index=apl.index)"
   ]
  },
  {
   "cell_type": "code",
   "execution_count": 64,
   "metadata": {},
   "outputs": [],
   "source": [
    "shifts = [0,1,2,3,4,5,6,7]"
   ]
  },
  {
   "cell_type": "code",
   "execution_count": 99,
   "metadata": {},
   "outputs": [],
   "source": [
    "X2 = {i : apl_ser.shift(i) for i in shifts}"
   ]
  },
  {
   "cell_type": "code",
   "execution_count": 94,
   "metadata": {
    "scrolled": true
   },
   "outputs": [
    {
     "data": {
      "text/plain": [
       "{0:                  close\n",
       " date                  \n",
       " 2010-01-04  214.009998\n",
       " 2010-01-05  214.379993\n",
       " 2010-01-06  210.969995\n",
       " 2010-01-07  210.580000\n",
       " 2010-01-08  211.980005\n",
       " ...                ...\n",
       " 2016-12-23  116.519997\n",
       " 2016-12-27  117.260002\n",
       " 2016-12-28  116.760002\n",
       " 2016-12-29  116.730003\n",
       " 2016-12-30  115.820000\n",
       " \n",
       " [1762 rows x 1 columns], 1:                  close\n",
       " date                  \n",
       " 2010-01-04         NaN\n",
       " 2010-01-05  214.009998\n",
       " 2010-01-06  214.379993\n",
       " 2010-01-07  210.969995\n",
       " 2010-01-08  210.580000\n",
       " ...                ...\n",
       " 2016-12-23  116.290001\n",
       " 2016-12-27  116.519997\n",
       " 2016-12-28  117.260002\n",
       " 2016-12-29  116.760002\n",
       " 2016-12-30  116.730003\n",
       " \n",
       " [1762 rows x 1 columns], 2:                  close\n",
       " date                  \n",
       " 2010-01-04         NaN\n",
       " 2010-01-05         NaN\n",
       " 2010-01-06  214.009998\n",
       " 2010-01-07  214.379993\n",
       " 2010-01-08  210.969995\n",
       " ...                ...\n",
       " 2016-12-23  117.059998\n",
       " 2016-12-27  116.290001\n",
       " 2016-12-28  116.519997\n",
       " 2016-12-29  117.260002\n",
       " 2016-12-30  116.760002\n",
       " \n",
       " [1762 rows x 1 columns], 3:                  close\n",
       " date                  \n",
       " 2010-01-04         NaN\n",
       " 2010-01-05         NaN\n",
       " 2010-01-06         NaN\n",
       " 2010-01-07  214.009998\n",
       " 2010-01-08  214.379993\n",
       " ...                ...\n",
       " 2016-12-23  116.949997\n",
       " 2016-12-27  117.059998\n",
       " 2016-12-28  116.290001\n",
       " 2016-12-29  116.519997\n",
       " 2016-12-30  117.260002\n",
       " \n",
       " [1762 rows x 1 columns], 4:                  close\n",
       " date                  \n",
       " 2010-01-04         NaN\n",
       " 2010-01-05         NaN\n",
       " 2010-01-06         NaN\n",
       " 2010-01-07         NaN\n",
       " 2010-01-08  214.009998\n",
       " ...                ...\n",
       " 2016-12-23  116.639999\n",
       " 2016-12-27  116.949997\n",
       " 2016-12-28  117.059998\n",
       " 2016-12-29  116.290001\n",
       " 2016-12-30  116.519997\n",
       " \n",
       " [1762 rows x 1 columns], 5:                  close\n",
       " date                  \n",
       " 2010-01-04         NaN\n",
       " 2010-01-05         NaN\n",
       " 2010-01-06         NaN\n",
       " 2010-01-07         NaN\n",
       " 2010-01-08         NaN\n",
       " ...                ...\n",
       " 2016-12-23  115.970001\n",
       " 2016-12-27  116.639999\n",
       " 2016-12-28  116.949997\n",
       " 2016-12-29  117.059998\n",
       " 2016-12-30  116.290001\n",
       " \n",
       " [1762 rows x 1 columns], 6:                  close\n",
       " date                  \n",
       " 2010-01-04         NaN\n",
       " 2010-01-05         NaN\n",
       " 2010-01-06         NaN\n",
       " 2010-01-07         NaN\n",
       " 2010-01-08         NaN\n",
       " ...                ...\n",
       " 2016-12-23  115.820000\n",
       " 2016-12-27  115.970001\n",
       " 2016-12-28  116.639999\n",
       " 2016-12-29  116.949997\n",
       " 2016-12-30  117.059998\n",
       " \n",
       " [1762 rows x 1 columns], 7:                  close\n",
       " date                  \n",
       " 2010-01-04         NaN\n",
       " 2010-01-05         NaN\n",
       " 2010-01-06         NaN\n",
       " 2010-01-07         NaN\n",
       " 2010-01-08         NaN\n",
       " ...                ...\n",
       " 2016-12-23  115.190002\n",
       " 2016-12-27  115.820000\n",
       " 2016-12-28  115.970001\n",
       " 2016-12-29  116.639999\n",
       " 2016-12-30  116.949997\n",
       " \n",
       " [1762 rows x 1 columns]}"
      ]
     },
     "execution_count": 94,
     "metadata": {},
     "output_type": "execute_result"
    }
   ],
   "source": [
    "X2"
   ]
  },
  {
   "cell_type": "code",
   "execution_count": 115,
   "metadata": {},
   "outputs": [],
   "source": [
    "y1 = apl.values"
   ]
  },
  {
   "cell_type": "code",
   "execution_count": 117,
   "metadata": {},
   "outputs": [
    {
     "data": {
      "text/plain": [
       "Ridge()"
      ]
     },
     "execution_count": 117,
     "metadata": {},
     "output_type": "execute_result"
    }
   ],
   "source": [
    "test = Ridge()\n",
    "test.fit(X1, y1)"
   ]
  },
  {
   "cell_type": "code",
   "execution_count": 83,
   "metadata": {},
   "outputs": [],
   "source": [
    "index_arr = np.array(apl.index.values)"
   ]
  },
  {
   "cell_type": "code",
   "execution_count": 113,
   "metadata": {},
   "outputs": [
    {
     "data": {
      "text/plain": [
       "array([[214.009998, 318.620003, 318.620003, ..., 318.620003, 318.620003,\n",
       "        318.620003],\n",
       "       [214.379993, 214.009998, 318.620003, ..., 318.620003, 318.620003,\n",
       "        318.620003],\n",
       "       [210.969995, 214.379993, 214.009998, ..., 318.620003, 318.620003,\n",
       "        318.620003],\n",
       "       ...,\n",
       "       [116.760002, 117.260002, 116.519997, ..., 116.949997, 116.639999,\n",
       "        115.970001],\n",
       "       [116.730003, 116.760002, 117.260002, ..., 117.059998, 116.949997,\n",
       "        116.639999],\n",
       "       [115.82    , 116.730003, 116.760002, ..., 116.290001, 117.059998,\n",
       "        116.949997]])"
      ]
     },
     "execution_count": 113,
     "metadata": {},
     "output_type": "execute_result"
    }
   ],
   "source": [
    "X = pd.DataFrame(X2)\n",
    "X1 = X.fillna(np.nanmedian(X)).values\n",
    "X1"
   ]
  },
  {
   "cell_type": "code",
   "execution_count": 29,
   "metadata": {},
   "outputs": [],
   "source": [
    "cv = TimeSeriesSplit(n_splits=10)"
   ]
  },
  {
   "cell_type": "code",
   "execution_count": 30,
   "metadata": {},
   "outputs": [],
   "source": [
    "from sklearn.utils import resample"
   ]
  },
  {
   "cell_type": "code",
   "execution_count": 33,
   "metadata": {},
   "outputs": [],
   "source": [
    "from sklearn.linear_model import Ridge"
   ]
  },
  {
   "cell_type": "code",
   "execution_count": 132,
   "metadata": {},
   "outputs": [],
   "source": [
    "def bootstrap_interval(data, percentiles=(2.5,97.5), n_boots=100):\n",
    "    bootstrap_means = np.zeros([n_boots, data.shape[-1]])\n",
    "    for i in range(n_boots):\n",
    "    \n",
    "        random_sample = resample(data)\n",
    "        bootstrap_means[i] = random_sample.mean(axis=0)\n",
    "    \n",
    "    percentiles= np.percentile(bootstrap_means, percentiles, axis=0)\n",
    "    return percentiles\n"
   ]
  },
  {
   "cell_type": "code",
   "execution_count": 122,
   "metadata": {},
   "outputs": [
    {
     "data": {
      "text/plain": [
       "(1762, 1)"
      ]
     },
     "execution_count": 122,
     "metadata": {},
     "output_type": "execute_result"
    }
   ],
   "source": [
    "y1.shape"
   ]
  },
  {
   "cell_type": "code",
   "execution_count": 118,
   "metadata": {},
   "outputs": [
    {
     "data": {
      "text/plain": [
       "(1762, 8)"
      ]
     },
     "execution_count": 118,
     "metadata": {},
     "output_type": "execute_result"
    }
   ],
   "source": [
    "X1.shape"
   ]
  },
  {
   "cell_type": "code",
   "execution_count": 126,
   "metadata": {},
   "outputs": [],
   "source": [
    "cv3 = TimeSeriesSplit(n_splits=100)\n",
    "model = Ridge()\n",
    "\n",
    "coefficients = np.zeros([100, X1.shape[-1]])\n",
    "\n",
    "for i, (tr, tt) in enumerate(cv3.split(X1,y1)):\n",
    "    model.fit(X1[tr], y1[tr])\n",
    "    coefficients[i] = model.coef_"
   ]
  },
  {
   "cell_type": "code",
   "execution_count": 134,
   "metadata": {},
   "outputs": [],
   "source": [
    "interval = bootstrap_interval(coefficients)"
   ]
  },
  {
   "cell_type": "code",
   "execution_count": 140,
   "metadata": {},
   "outputs": [
    {
     "data": {
      "text/plain": [
       "array([ 9.99969367e-01,  2.01387433e-05,  2.56670965e-07, -1.86642805e-06,\n",
       "        5.32178698e-07, -1.09945416e-07,  6.01733350e-08, -9.34525915e-07])"
      ]
     },
     "execution_count": 140,
     "metadata": {},
     "output_type": "execute_result"
    }
   ],
   "source": [
    "interval[0]"
   ]
  },
  {
   "cell_type": "code",
   "execution_count": 142,
   "metadata": {},
   "outputs": [
    {
     "data": {
      "text/plain": [
       "array([ 9.99978338e-01,  2.87361335e-05,  6.84172711e-07, -1.14319612e-06,\n",
       "        8.27205386e-07,  4.55739067e-07,  4.55422344e-07, -4.46722512e-07])"
      ]
     },
     "execution_count": 142,
     "metadata": {},
     "output_type": "execute_result"
    }
   ],
   "source": [
    "interval[1]"
   ]
  },
  {
   "cell_type": "code",
   "execution_count": 139,
   "metadata": {},
   "outputs": [
    {
     "data": {
      "text/plain": [
       "(2, 8)"
      ]
     },
     "execution_count": 139,
     "metadata": {},
     "output_type": "execute_result"
    }
   ],
   "source": [
    "interval.shape"
   ]
  },
  {
   "cell_type": "code",
   "execution_count": 143,
   "metadata": {},
   "outputs": [
    {
     "data": {
      "text/plain": [
       "[None,\n",
       " None,\n",
       " None,\n",
       " None,\n",
       " None,\n",
       " None,\n",
       " None,\n",
       " None,\n",
       " None,\n",
       " None,\n",
       " None,\n",
       " None,\n",
       " None,\n",
       " None,\n",
       " None,\n",
       " None,\n",
       " None,\n",
       " None,\n",
       " None,\n",
       " None]"
      ]
     },
     "execution_count": 143,
     "metadata": {},
     "output_type": "execute_result"
    },
    {
     "data": {
      "image/png": "[encoded data removed]",
      "text/plain": [
       "<Figure size 432x288 with 1 Axes>"
      ]
     },
     "metadata": {
      "needs_background": "light"
     },
     "output_type": "display_data"
    }
   ],
   "source": [
    "fig, ax = plt.subplots()\n",
    "ax.scatter(X.columns, interval[0], marker='_', lw=3)\n",
    "ax.scatter(X.columns, interval[1], marker='_', lw=3)\n",
    "ax.set(title='96% confidence Interval for Coefficients')\n",
    "plt.setp(ax.get_xticklabels(), rotation=45, horizontalalignment='right')\n"
   ]
  },
  {
   "cell_type": "code",
   "execution_count": null,
   "metadata": {},
   "outputs": [],
   "source": []
  }
 ],
 "metadata": {
  "kernelspec": {
   "display_name": "Python 3",
   "language": "python",
   "name": "python3"
  },
  "language_info": {
   "codemirror_mode": {
    "name": "ipython",
    "version": 3
   },
   "file_extension": ".py",
   "mimetype": "text/x-python",
   "name": "python",
   "nbconvert_exporter": "python",
   "pygments_lexer": "ipython3",
   "version": "3.7.3"
  }
 },
 "nbformat": 4,
 "nbformat_minor": 2
}
